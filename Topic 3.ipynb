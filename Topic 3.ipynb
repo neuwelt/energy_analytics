{
 "cells": [
  {
   "cell_type": "code",
   "execution_count": 54,
   "metadata": {},
   "outputs": [
    {
     "name": "stdout",
     "output_type": "stream",
     "text": [
      "5.4825\n",
      "Gefiltertes DataFrame:\n",
      "        MESS_ID                    VALUEDATE     PVALUE\n",
      "37194      5425  2023-01-10 15:00:00.0000000   9.208419\n",
      "37195      5425  2023-01-10 15:01:00.0000000  11.302227\n",
      "37196      5425  2023-01-10 15:02:00.0000000  11.289743\n",
      "37197      5425  2023-01-10 15:03:00.0000000  11.369067\n",
      "37198      5425  2023-01-10 15:04:00.0000000  11.272236\n",
      "...         ...                          ...        ...\n",
      "313512     5240  2023-03-13 08:38:00.0000000   5.880000\n",
      "313513     5240  2023-03-13 08:39:00.0000000   6.000000\n",
      "313514     5240  2023-03-13 08:40:00.0000000   5.880000\n",
      "313515     5240  2023-03-13 08:41:00.0000000   5.640000\n",
      "313516     5240  2023-03-13 08:42:00.0000000   5.520000\n",
      "\n",
      "[11297 rows x 3 columns]\n"
     ]
    }
   ],
   "source": [
    "import pandas as pa # type: ignore\n",
    "\n",
    "df = pa.read_csv('MSJO_60_01-03_2023.csv', delimiter=';')\n",
    "\n",
    "# Basis Datansatz sortieren\n",
    "df_sorted = df.sort_values(by=['MESS_ID', 'VALUEDATE'], ascending=[True, True])\n",
    "df_sorted.to_csv('sortierte_datei.csv', index=False)\n",
    "\n",
    "# Drop rows with any missing values in MESS_ID, VALUEDATE, or PVALUE\n",
    "df = df.dropna(subset=['MESS_ID', 'VALUEDATE', 'PVALUE'], how='any')\n",
    "\n",
    "# Drop rows with Pvalue = 0\n",
    "df = df[df['PVALUE'] != '0']\n",
    "\n",
    "# Drop Duplicates\n",
    "duplicates = df.duplicated().sum()\n",
    "df.drop_duplicates(inplace=True)\n",
    "\n",
    "# Set PVLAUE to float\n",
    "df['PVALUE'] = df['PVALUE'].str.replace(',','.').astype(float)\n",
    "\n",
    "# Quartile berechnen\n",
    "Q1 = df['PVALUE'].quantile(0.25)\n",
    "Q3 = df['PVALUE'].quantile(0.75)\n",
    "IQR = Q3 - Q1\n",
    "\n",
    "# Definiere die Schwellenwerte\n",
    "obere_schwelle = Q3 + 1.5 * IQR\n",
    "print(obere_schwelle)\n",
    "\n",
    "# Filtere die Zeilen\n",
    "df_filtered = df[(df['PVALUE'] >= obere_schwelle)]\n",
    "\n",
    "# Gefiltertes DataFrame anzeigen\n",
    "print(\"Gefiltertes DataFrame:\")\n",
    "print(df_filtered)\n",
    "\n",
    "# Sort Cleand Dataset\n",
    "df = df.sort_values(by=['MESS_ID', 'VALUEDATE'], ascending=[True, True])\n",
    "\n",
    "# New CSV File\n",
    "df.to_csv('cleaned.csv', index=False)\n",
    "df_filtered.to_csv('test.csv', index=False)\n",
    "\n",
    "# Calculate mean\n",
    "pvalue_mean = df['PVALUE'].mean()\n",
    "\n",
    "\n",
    "\n",
    "\n",
    "\n"
   ]
  }
 ],
 "metadata": {
  "kernelspec": {
   "display_name": "Python 3",
   "language": "python",
   "name": "python3"
  },
  "language_info": {
   "codemirror_mode": {
    "name": "ipython",
    "version": 3
   },
   "file_extension": ".py",
   "mimetype": "text/x-python",
   "name": "python",
   "nbconvert_exporter": "python",
   "pygments_lexer": "ipython3",
   "version": "3.12.3"
  }
 },
 "nbformat": 4,
 "nbformat_minor": 2
}
